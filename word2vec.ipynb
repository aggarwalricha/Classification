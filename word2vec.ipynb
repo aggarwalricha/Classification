{
 "cells": [
  {
   "cell_type": "code",
   "execution_count": null,
   "metadata": {},
   "outputs": [],
   "source": [
    "import pandas as pd\n",
    "from nltk.tokenize import sent_tokenize, word_tokenize\n",
    "from nltk.corpus import stopwords\n",
    "from string import punctuation\n",
    "from sklearn.feature_extraction.text import TfidfVectorizer\n",
    "from sklearn.model_selection import train_test_split\n",
    "from sklearn.neighbors import KNeighborsClassifier\n",
    "from sklearn import svm\n",
    "\n",
    "import gensim \n",
    "import logging\n",
    "\n",
    "# Reading Text file , extracting Notes content\n",
    "def getProcessedText(data):\n",
    "    return str(data).decode('ascii','ignore').encode('ascii','ignore')\n",
    "\n",
    "dataframe = pd.read_csv(\"notesOutput.txt\", sep=' ',index_col=None)\n",
    "all_notes = [getProcessedText(doc) for doc in dataframe[\"Notes\"]]\n",
    "\n",
    "#logging.basicConfig(format='%(asctime)s : %(message)s  : %(levelname)', level=logging.INFO)\n",
    "\n",
    "def preprocessed_notes():\n",
    "    for index , note in enumerate(all_notes):\n",
    "        yield gensim.utils.simple_preprocess(note)\n",
    "\n",
    "processedNotes = list(preprocessed_notes())\n",
    "\n",
    "model = gensim.models.Word2Vec(processedNotes , size=150, window=10, min_count=2 , workers=10)\n",
    "model.train(processedNotes, total_examples=len(processedNotes), epochs=10)\n",
    "\n",
    "\n",
    "\n"
   ]
  }
 ],
 "metadata": {
  "kernelspec": {
   "display_name": "Python 2",
   "language": "python",
   "name": "python2"
  },
  "language_info": {
   "codemirror_mode": {
    "name": "ipython",
    "version": 2
   },
   "file_extension": ".py",
   "mimetype": "text/x-python",
   "name": "python",
   "nbconvert_exporter": "python",
   "pygments_lexer": "ipython2",
   "version": "2.7.14"
  }
 },
 "nbformat": 4,
 "nbformat_minor": 2
}
