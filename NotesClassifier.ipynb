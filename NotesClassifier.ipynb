{
 "cells": [
  {
   "cell_type": "code",
   "execution_count": 4,
   "metadata": {},
   "outputs": [
    {
     "name": "stdout",
     "output_type": "stream",
     "text": [
      "0.7333333333333333\n"
     ]
    }
   ],
   "source": [
    "import pandas as pd\n",
    "from nltk.tokenize import sent_tokenize, word_tokenize\n",
    "from nltk.corpus import stopwords\n",
    "from string import punctuation\n",
    "from sklearn.feature_extraction.text import TfidfVectorizer\n",
    "from sklearn.model_selection import train_test_split\n",
    "from sklearn.neighbors import KNeighborsClassifier\n",
    "\n",
    "# Reading Text file , extracting Notes content\n",
    "def getProcessedText(data):\n",
    "    return str(data).decode('ascii','ignore').encode('ascii','ignore')\n",
    "dataframe = pd.read_csv(\"notesOutput.txt\", sep=' ',index_col=None)\n",
    "all_notes = [getProcessedText(doc) for doc in dataframe[\"Notes\"]]\n",
    "\n",
    "# Creating TFID matrix using Vectorizer\n",
    "_stop_words = set(stopwords.words('english') + list(punctuation))\n",
    "\n",
    "vectorizer = TfidfVectorizer(max_df=0.6, min_df=1, stop_words=_stop_words)\n",
    "X= vectorizer.fit_transform(all_notes)\n",
    "y = dataframe['Autoclose']\n",
    "\n",
    "# Divinding data into Train-test data in 70:30\n",
    "X_train , X_test, y_train , y_test = train_test_split(X,y, test_size=0.3, random_state=21, stratify=y)\n",
    "\n",
    "# Using KNeighborsClassifier , creating model (fit)\n",
    "knn = KNeighborsClassifier(n_neighbors=7)\n",
    "knn.fit(X_train, y_train)\n",
    "\n",
    "# predicting and calculating score for Test Data\n",
    "prediction = knn.predict(X_test)\n",
    "\n",
    "\n",
    "print knn.score(X_test, y_test)"
   ]
  },
  {
   "cell_type": "code",
   "execution_count": null,
   "metadata": {},
   "outputs": [],
   "source": []
  },
  {
   "cell_type": "code",
   "execution_count": null,
   "metadata": {},
   "outputs": [],
   "source": []
  }
 ],
 "metadata": {
  "kernelspec": {
   "display_name": "Python 2",
   "language": "python",
   "name": "python2"
  },
  "language_info": {
   "codemirror_mode": {
    "name": "ipython",
    "version": 2
   },
   "file_extension": ".py",
   "mimetype": "text/x-python",
   "name": "python",
   "nbconvert_exporter": "python",
   "pygments_lexer": "ipython2",
   "version": "2.7.14"
  }
 },
 "nbformat": 4,
 "nbformat_minor": 2
}
