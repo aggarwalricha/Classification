{
 "cells": [
  {
   "cell_type": "code",
   "execution_count": 4,
   "metadata": {},
   "outputs": [
    {
     "ename": "SyntaxError",
     "evalue": "invalid syntax (<ipython-input-4-f265fd2310f5>, line 29)",
     "output_type": "error",
     "traceback": [
      "\u001b[0;36m  File \u001b[0;32m\"<ipython-input-4-f265fd2310f5>\"\u001b[0;36m, line \u001b[0;32m29\u001b[0m\n\u001b[0;31m    We talked about raising some cash ($20K)for a new flat roof and to pay off the October European Cruise.\u001b[0m\n\u001b[0m            ^\u001b[0m\n\u001b[0;31mSyntaxError\u001b[0m\u001b[0;31m:\u001b[0m invalid syntax\n"
     ]
    }
   ],
   "source": [
    "import nltk\n",
    "import pandas as pd\n",
    "import math\n",
    "import time\n",
    "\n",
    "set_of_unique_tokens = []\n",
    "corpus_dict ={}\n",
    "\n",
    "corpus = [doc[1] for doc in documents.itertuples()]\n",
    "\n",
    "def getAllWords(document):\n",
    "    print document\n",
    "    all_words =[]\n",
    "    sentences = nltk.sent_tokenize(str(document))\n",
    "    for sentence in sentences:\n",
    "        word_token = nltk.word_tokenize(sentence)\n",
    "        all_words.extend(word_token)\n",
    "    print all_words\n",
    "    return all_words\n",
    "\n",
    "import unicodedata\n",
    "\n",
    "def strip_accents(text):\n",
    "    return ''.join(c for c in unicodedata.normalize('NFKD', text) if unicodedata.category(c) != 'Mn')\n",
    "#getAllWords(corpus[83])\n",
    "\n",
    "#text = \"Had a good call with Abcd this morning. He and Abcd are doing great. We talked about the portfolio and they are happy with our holdings and allocation. Happy to see the performance on the year as well. We talked about raising some cash ($20K)for a new flat roof and to pay off the October European Cruise. We ran through all of the accounts and decided on the following: 1. We are going to sell the MLI and then liquidate Diana's LAE SEP 11111 - She is going to have to take a RMD this year and decided to go ahead and capture the 15% profit in the note. I sold the note on the secondary market - Once settled, Xyz will move the cash to the CMA. - No withholding2. We also agreed to liquidate and close Abcd's SEP 1111 Chris will request liquidation from CIO and once settled she will move the cash to the CMA - no withholding 3. Lastly we are going to raise approx. $7,600 from CIO Model (enough to get to $20k total) from Abcd's ROTH, 1111 Once settled, we will transfer the cash to the CMA.\"\n",
    "#text = \"Had a good call with Abcd this morning. He and Abcd are doing great. We talked about the portfolio and they are happy with our holdings and allocation. Happy to see the performance on the year as well.  ",
    "We talked about raising some cash ($20K)for a new flat roof and to pay off the October European Cruise.  ",
    "We ran through all of the accounts and decided on the following:  ",
    "1. We are going to sell the MLI and then liquidate Diana's LAE SEP 11111 - She is going to have to take a RMD this year and decided to go ahead and capture the 15% profit in the note. I sold the note on the secondary market - Once settled, Xyz will move the cash to the CMA. - No withholding ",
    "2. We also agreed to liquidate and close Abcd's SEP 1111 Chris will request liquidation from CIO and once settled she will move the cash to the CMA - no withholding  ",
    "3. Lastly we are going to raise approx. $7,600 from CIO Model (enough to get to $20k total) from Abcd's ROTH, 1111 Once settled, we will transfer the cash to the CMA.\"\n",
    "\n",
    "\n",
    "print strip_accents(\"hello\")\n",
    "#print type(corpus[84])\n",
    "#getAllWords(corpus[84])\n",
    "#for index ,document in enumerate(corpus):\n",
    "    #all_words = getAllWords(document)\n"
   ]
  },
  {
   "cell_type": "code",
   "execution_count": null,
   "metadata": {},
   "outputs": [],
   "source": []
  },
  {
   "cell_type": "code",
   "execution_count": null,
   "metadata": {},
   "outputs": [],
   "source": []
  },
  {
   "cell_type": "code",
   "execution_count": null,
   "metadata": {},
   "outputs": [],
   "source": []
  }
 ],
 "metadata": {
  "kernelspec": {
   "display_name": "Python 2",
   "language": "python",
   "name": "python2"
  },
  "language_info": {
   "codemirror_mode": {
    "name": "ipython",
    "version": 2
   },
   "file_extension": ".py",
   "mimetype": "text/x-python",
   "name": "python",
   "nbconvert_exporter": "python",
   "pygments_lexer": "ipython2",
   "version": "2.7.14"
  }
 },
 "nbformat": 4,
 "nbformat_minor": 2
}
